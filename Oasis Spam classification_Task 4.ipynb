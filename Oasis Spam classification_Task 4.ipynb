{
 "cells": [
  {
   "cell_type": "markdown",
   "id": "8c9e5f67",
   "metadata": {},
   "source": [
    "Oasis\n",
    "\n",
    "V.L.Swathika\n",
    "\n",
    "Data science Internship\n",
    "\n",
    "Task 4\n",
    "\n",
    "The SMS Spam Collection is a set of SMS tagged messages that have been collected for SMS Spam research. \n",
    "\n",
    "It contains one set of SMS messages in English of 5,574 messages, tagged acording being ham (legitimate) or spam.\n",
    "\n",
    "Aim is to build a prediction model that will accurately classify which texts are spam.\n",
    "\n",
    "Kaggle : https://www.kaggle.com/datasets/uciml/sms-spam-collection-dataset"
   ]
  },
  {
   "cell_type": "code",
   "execution_count": 164,
   "id": "4bd34b83",
   "metadata": {},
   "outputs": [],
   "source": [
    "import pandas as pd\n",
    "import numpy as np \n",
    "import seaborn as sns \n",
    "import matplotlib.pyplot as plt"
   ]
  },
  {
   "cell_type": "code",
   "execution_count": 165,
   "id": "88d23e12",
   "metadata": {},
   "outputs": [
    {
     "data": {
      "text/html": [
       "<div>\n",
       "<style scoped>\n",
       "    .dataframe tbody tr th:only-of-type {\n",
       "        vertical-align: middle;\n",
       "    }\n",
       "\n",
       "    .dataframe tbody tr th {\n",
       "        vertical-align: top;\n",
       "    }\n",
       "\n",
       "    .dataframe thead th {\n",
       "        text-align: right;\n",
       "    }\n",
       "</style>\n",
       "<table border=\"1\" class=\"dataframe\">\n",
       "  <thead>\n",
       "    <tr style=\"text-align: right;\">\n",
       "      <th></th>\n",
       "      <th>v1</th>\n",
       "      <th>v2</th>\n",
       "      <th>Unnamed: 2</th>\n",
       "      <th>Unnamed: 3</th>\n",
       "      <th>Unnamed: 4</th>\n",
       "    </tr>\n",
       "  </thead>\n",
       "  <tbody>\n",
       "    <tr>\n",
       "      <th>0</th>\n",
       "      <td>ham</td>\n",
       "      <td>Go until jurong point, crazy.. Available only ...</td>\n",
       "      <td>NaN</td>\n",
       "      <td>NaN</td>\n",
       "      <td>NaN</td>\n",
       "    </tr>\n",
       "    <tr>\n",
       "      <th>1</th>\n",
       "      <td>ham</td>\n",
       "      <td>Ok lar... Joking wif u oni...</td>\n",
       "      <td>NaN</td>\n",
       "      <td>NaN</td>\n",
       "      <td>NaN</td>\n",
       "    </tr>\n",
       "    <tr>\n",
       "      <th>2</th>\n",
       "      <td>spam</td>\n",
       "      <td>Free entry in 2 a wkly comp to win FA Cup fina...</td>\n",
       "      <td>NaN</td>\n",
       "      <td>NaN</td>\n",
       "      <td>NaN</td>\n",
       "    </tr>\n",
       "    <tr>\n",
       "      <th>3</th>\n",
       "      <td>ham</td>\n",
       "      <td>U dun say so early hor... U c already then say...</td>\n",
       "      <td>NaN</td>\n",
       "      <td>NaN</td>\n",
       "      <td>NaN</td>\n",
       "    </tr>\n",
       "    <tr>\n",
       "      <th>4</th>\n",
       "      <td>ham</td>\n",
       "      <td>Nah I don't think he goes to usf, he lives aro...</td>\n",
       "      <td>NaN</td>\n",
       "      <td>NaN</td>\n",
       "      <td>NaN</td>\n",
       "    </tr>\n",
       "  </tbody>\n",
       "</table>\n",
       "</div>"
      ],
      "text/plain": [
       "     v1                                                 v2 Unnamed: 2  \\\n",
       "0   ham  Go until jurong point, crazy.. Available only ...        NaN   \n",
       "1   ham                      Ok lar... Joking wif u oni...        NaN   \n",
       "2  spam  Free entry in 2 a wkly comp to win FA Cup fina...        NaN   \n",
       "3   ham  U dun say so early hor... U c already then say...        NaN   \n",
       "4   ham  Nah I don't think he goes to usf, he lives aro...        NaN   \n",
       "\n",
       "  Unnamed: 3 Unnamed: 4  \n",
       "0        NaN        NaN  \n",
       "1        NaN        NaN  \n",
       "2        NaN        NaN  \n",
       "3        NaN        NaN  \n",
       "4        NaN        NaN  "
      ]
     },
     "execution_count": 165,
     "metadata": {},
     "output_type": "execute_result"
    }
   ],
   "source": [
    "df = pd.read_csv(r\"C:\\Users\\HP\\Downloads\\archive\\spam.csv\", encoding='latin1')\n",
    "df.head()"
   ]
  },
  {
   "cell_type": "code",
   "execution_count": 166,
   "id": "086fb19c",
   "metadata": {},
   "outputs": [
    {
     "data": {
      "text/plain": [
       "'Go until jurong point, crazy.. Available only in bugis n great world la e buffet... Cine there got amore wat...'"
      ]
     },
     "execution_count": 166,
     "metadata": {},
     "output_type": "execute_result"
    }
   ],
   "source": [
    "ham=df[df['v1']=='ham']\n",
    "first_row_of_ham = ham.iloc[0]\n",
    "value_in_v2_column = first_row_of_ham['v2']\n",
    "value_in_v2_column"
   ]
  },
  {
   "cell_type": "code",
   "execution_count": 167,
   "id": "da3de4a1",
   "metadata": {},
   "outputs": [
    {
     "data": {
      "text/plain": [
       "\"Free entry in 2 a wkly comp to win FA Cup final tkts 21st May 2005. Text FA to 87121 to receive entry question(std txt rate)T&C's apply 08452810075over18's\""
      ]
     },
     "execution_count": 167,
     "metadata": {},
     "output_type": "execute_result"
    }
   ],
   "source": [
    "spam=df[df['v1']=='spam']\n",
    "first_row_of_spam = spam.iloc[0]\n",
    "value_in_v2_column = first_row_of_spam['v2']\n",
    "value_in_v2_column"
   ]
  },
  {
   "cell_type": "code",
   "execution_count": 168,
   "id": "c44ae45b",
   "metadata": {},
   "outputs": [
    {
     "data": {
      "text/plain": [
       "(5572, 5)"
      ]
     },
     "execution_count": 168,
     "metadata": {},
     "output_type": "execute_result"
    }
   ],
   "source": [
    "df.shape"
   ]
  },
  {
   "cell_type": "code",
   "execution_count": 169,
   "id": "8da394df",
   "metadata": {},
   "outputs": [
    {
     "name": "stdout",
     "output_type": "stream",
     "text": [
      "<class 'pandas.core.frame.DataFrame'>\n",
      "RangeIndex: 5572 entries, 0 to 5571\n",
      "Data columns (total 5 columns):\n",
      " #   Column      Non-Null Count  Dtype \n",
      "---  ------      --------------  ----- \n",
      " 0   v1          5572 non-null   object\n",
      " 1   v2          5572 non-null   object\n",
      " 2   Unnamed: 2  50 non-null     object\n",
      " 3   Unnamed: 3  12 non-null     object\n",
      " 4   Unnamed: 4  6 non-null      object\n",
      "dtypes: object(5)\n",
      "memory usage: 217.8+ KB\n"
     ]
    }
   ],
   "source": [
    "df.info()"
   ]
  },
  {
   "cell_type": "code",
   "execution_count": 170,
   "id": "e15ecf9c",
   "metadata": {},
   "outputs": [
    {
     "data": {
      "text/html": [
       "<div>\n",
       "<style scoped>\n",
       "    .dataframe tbody tr th:only-of-type {\n",
       "        vertical-align: middle;\n",
       "    }\n",
       "\n",
       "    .dataframe tbody tr th {\n",
       "        vertical-align: top;\n",
       "    }\n",
       "\n",
       "    .dataframe thead th {\n",
       "        text-align: right;\n",
       "    }\n",
       "</style>\n",
       "<table border=\"1\" class=\"dataframe\">\n",
       "  <thead>\n",
       "    <tr style=\"text-align: right;\">\n",
       "      <th></th>\n",
       "      <th>v1</th>\n",
       "      <th>v2</th>\n",
       "      <th>Unnamed: 2</th>\n",
       "      <th>Unnamed: 3</th>\n",
       "      <th>Unnamed: 4</th>\n",
       "    </tr>\n",
       "  </thead>\n",
       "  <tbody>\n",
       "    <tr>\n",
       "      <th>count</th>\n",
       "      <td>5572</td>\n",
       "      <td>5572</td>\n",
       "      <td>50</td>\n",
       "      <td>12</td>\n",
       "      <td>6</td>\n",
       "    </tr>\n",
       "    <tr>\n",
       "      <th>unique</th>\n",
       "      <td>2</td>\n",
       "      <td>5169</td>\n",
       "      <td>43</td>\n",
       "      <td>10</td>\n",
       "      <td>5</td>\n",
       "    </tr>\n",
       "    <tr>\n",
       "      <th>top</th>\n",
       "      <td>ham</td>\n",
       "      <td>Sorry, I'll call later</td>\n",
       "      <td>bt not his girlfrnd... G o o d n i g h t . . .@\"</td>\n",
       "      <td>MK17 92H. 450Ppw 16\"</td>\n",
       "      <td>GNT:-)\"</td>\n",
       "    </tr>\n",
       "    <tr>\n",
       "      <th>freq</th>\n",
       "      <td>4825</td>\n",
       "      <td>30</td>\n",
       "      <td>3</td>\n",
       "      <td>2</td>\n",
       "      <td>2</td>\n",
       "    </tr>\n",
       "  </tbody>\n",
       "</table>\n",
       "</div>"
      ],
      "text/plain": [
       "          v1                      v2  \\\n",
       "count   5572                    5572   \n",
       "unique     2                    5169   \n",
       "top      ham  Sorry, I'll call later   \n",
       "freq    4825                      30   \n",
       "\n",
       "                                               Unnamed: 2  \\\n",
       "count                                                  50   \n",
       "unique                                                 43   \n",
       "top      bt not his girlfrnd... G o o d n i g h t . . .@\"   \n",
       "freq                                                    3   \n",
       "\n",
       "                   Unnamed: 3 Unnamed: 4  \n",
       "count                      12          6  \n",
       "unique                     10          5  \n",
       "top      MK17 92H. 450Ppw 16\"    GNT:-)\"  \n",
       "freq                        2          2  "
      ]
     },
     "execution_count": 170,
     "metadata": {},
     "output_type": "execute_result"
    }
   ],
   "source": [
    "df.describe(exclude=np.number)"
   ]
  },
  {
   "cell_type": "code",
   "execution_count": 171,
   "id": "42d1033d",
   "metadata": {},
   "outputs": [
    {
     "data": {
      "text/plain": [
       "v1               0\n",
       "v2               0\n",
       "Unnamed: 2    5522\n",
       "Unnamed: 3    5560\n",
       "Unnamed: 4    5566\n",
       "dtype: int64"
      ]
     },
     "execution_count": 171,
     "metadata": {},
     "output_type": "execute_result"
    }
   ],
   "source": [
    "df.isnull().sum()"
   ]
  },
  {
   "cell_type": "code",
   "execution_count": 172,
   "id": "dfd913c9",
   "metadata": {},
   "outputs": [
    {
     "data": {
      "text/plain": [
       "403"
      ]
     },
     "execution_count": 172,
     "metadata": {},
     "output_type": "execute_result"
    }
   ],
   "source": [
    "df.duplicated().sum()"
   ]
  },
  {
   "cell_type": "code",
   "execution_count": 173,
   "id": "40857648",
   "metadata": {},
   "outputs": [
    {
     "data": {
      "text/html": [
       "<div>\n",
       "<style scoped>\n",
       "    .dataframe tbody tr th:only-of-type {\n",
       "        vertical-align: middle;\n",
       "    }\n",
       "\n",
       "    .dataframe tbody tr th {\n",
       "        vertical-align: top;\n",
       "    }\n",
       "\n",
       "    .dataframe thead th {\n",
       "        text-align: right;\n",
       "    }\n",
       "</style>\n",
       "<table border=\"1\" class=\"dataframe\">\n",
       "  <thead>\n",
       "    <tr style=\"text-align: right;\">\n",
       "      <th></th>\n",
       "      <th>v1</th>\n",
       "      <th>v2</th>\n",
       "      <th>Unnamed: 2</th>\n",
       "      <th>Unnamed: 3</th>\n",
       "      <th>Unnamed: 4</th>\n",
       "    </tr>\n",
       "  </thead>\n",
       "  <tbody>\n",
       "    <tr>\n",
       "      <th>102</th>\n",
       "      <td>ham</td>\n",
       "      <td>As per your request 'Melle Melle (Oru Minnamin...</td>\n",
       "      <td>NaN</td>\n",
       "      <td>NaN</td>\n",
       "      <td>NaN</td>\n",
       "    </tr>\n",
       "    <tr>\n",
       "      <th>153</th>\n",
       "      <td>ham</td>\n",
       "      <td>As per your request 'Melle Melle (Oru Minnamin...</td>\n",
       "      <td>NaN</td>\n",
       "      <td>NaN</td>\n",
       "      <td>NaN</td>\n",
       "    </tr>\n",
       "    <tr>\n",
       "      <th>206</th>\n",
       "      <td>ham</td>\n",
       "      <td>As I entered my cabin my PA said, '' Happy B'd...</td>\n",
       "      <td>NaN</td>\n",
       "      <td>NaN</td>\n",
       "      <td>NaN</td>\n",
       "    </tr>\n",
       "    <tr>\n",
       "      <th>222</th>\n",
       "      <td>ham</td>\n",
       "      <td>Sorry, I'll call later</td>\n",
       "      <td>NaN</td>\n",
       "      <td>NaN</td>\n",
       "      <td>NaN</td>\n",
       "    </tr>\n",
       "    <tr>\n",
       "      <th>325</th>\n",
       "      <td>ham</td>\n",
       "      <td>No calls..messages..missed calls</td>\n",
       "      <td>NaN</td>\n",
       "      <td>NaN</td>\n",
       "      <td>NaN</td>\n",
       "    </tr>\n",
       "    <tr>\n",
       "      <th>...</th>\n",
       "      <td>...</td>\n",
       "      <td>...</td>\n",
       "      <td>...</td>\n",
       "      <td>...</td>\n",
       "      <td>...</td>\n",
       "    </tr>\n",
       "    <tr>\n",
       "      <th>5524</th>\n",
       "      <td>spam</td>\n",
       "      <td>You are awarded a SiPix Digital Camera! call 0...</td>\n",
       "      <td>NaN</td>\n",
       "      <td>NaN</td>\n",
       "      <td>NaN</td>\n",
       "    </tr>\n",
       "    <tr>\n",
       "      <th>5535</th>\n",
       "      <td>ham</td>\n",
       "      <td>I know you are thinkin malaria. But relax, chi...</td>\n",
       "      <td>NaN</td>\n",
       "      <td>NaN</td>\n",
       "      <td>NaN</td>\n",
       "    </tr>\n",
       "    <tr>\n",
       "      <th>5539</th>\n",
       "      <td>ham</td>\n",
       "      <td>Just sleeping..and surfing</td>\n",
       "      <td>NaN</td>\n",
       "      <td>NaN</td>\n",
       "      <td>NaN</td>\n",
       "    </tr>\n",
       "    <tr>\n",
       "      <th>5553</th>\n",
       "      <td>ham</td>\n",
       "      <td>Hahaha..use your brain dear</td>\n",
       "      <td>NaN</td>\n",
       "      <td>NaN</td>\n",
       "      <td>NaN</td>\n",
       "    </tr>\n",
       "    <tr>\n",
       "      <th>5558</th>\n",
       "      <td>ham</td>\n",
       "      <td>Sorry, I'll call later</td>\n",
       "      <td>NaN</td>\n",
       "      <td>NaN</td>\n",
       "      <td>NaN</td>\n",
       "    </tr>\n",
       "  </tbody>\n",
       "</table>\n",
       "<p>403 rows × 5 columns</p>\n",
       "</div>"
      ],
      "text/plain": [
       "        v1                                                 v2 Unnamed: 2  \\\n",
       "102    ham  As per your request 'Melle Melle (Oru Minnamin...        NaN   \n",
       "153    ham  As per your request 'Melle Melle (Oru Minnamin...        NaN   \n",
       "206    ham  As I entered my cabin my PA said, '' Happy B'd...        NaN   \n",
       "222    ham                             Sorry, I'll call later        NaN   \n",
       "325    ham                   No calls..messages..missed calls        NaN   \n",
       "...    ...                                                ...        ...   \n",
       "5524  spam  You are awarded a SiPix Digital Camera! call 0...        NaN   \n",
       "5535   ham  I know you are thinkin malaria. But relax, chi...        NaN   \n",
       "5539   ham                         Just sleeping..and surfing        NaN   \n",
       "5553   ham                        Hahaha..use your brain dear        NaN   \n",
       "5558   ham                             Sorry, I'll call later        NaN   \n",
       "\n",
       "     Unnamed: 3 Unnamed: 4  \n",
       "102         NaN        NaN  \n",
       "153         NaN        NaN  \n",
       "206         NaN        NaN  \n",
       "222         NaN        NaN  \n",
       "325         NaN        NaN  \n",
       "...         ...        ...  \n",
       "5524        NaN        NaN  \n",
       "5535        NaN        NaN  \n",
       "5539        NaN        NaN  \n",
       "5553        NaN        NaN  \n",
       "5558        NaN        NaN  \n",
       "\n",
       "[403 rows x 5 columns]"
      ]
     },
     "execution_count": 173,
     "metadata": {},
     "output_type": "execute_result"
    }
   ],
   "source": [
    "df[df.duplicated]"
   ]
  },
  {
   "cell_type": "code",
   "execution_count": 174,
   "id": "9fad13e5",
   "metadata": {},
   "outputs": [
    {
     "data": {
      "text/plain": [
       "v1            0.000000\n",
       "v2            0.000000\n",
       "Unnamed: 2    0.991027\n",
       "Unnamed: 3    0.997846\n",
       "Unnamed: 4    0.998923\n",
       "dtype: float64"
      ]
     },
     "execution_count": 174,
     "metadata": {},
     "output_type": "execute_result"
    }
   ],
   "source": [
    "df.isnull().sum()/len(df)\n",
    "#dropping the unnamed:2,unnamed;3,unnamed:4 columns since they have more than 90% null values"
   ]
  },
  {
   "cell_type": "code",
   "execution_count": 175,
   "id": "6948dcf6",
   "metadata": {},
   "outputs": [],
   "source": [
    "df.drop(['Unnamed: 2','Unnamed: 3','Unnamed: 4'],axis=1,inplace=True)"
   ]
  },
  {
   "cell_type": "code",
   "execution_count": 176,
   "id": "8fa05f3d",
   "metadata": {},
   "outputs": [
    {
     "data": {
      "text/html": [
       "<div>\n",
       "<style scoped>\n",
       "    .dataframe tbody tr th:only-of-type {\n",
       "        vertical-align: middle;\n",
       "    }\n",
       "\n",
       "    .dataframe tbody tr th {\n",
       "        vertical-align: top;\n",
       "    }\n",
       "\n",
       "    .dataframe thead th {\n",
       "        text-align: right;\n",
       "    }\n",
       "</style>\n",
       "<table border=\"1\" class=\"dataframe\">\n",
       "  <thead>\n",
       "    <tr style=\"text-align: right;\">\n",
       "      <th></th>\n",
       "      <th>v1</th>\n",
       "      <th>v2</th>\n",
       "    </tr>\n",
       "  </thead>\n",
       "  <tbody>\n",
       "    <tr>\n",
       "      <th>0</th>\n",
       "      <td>ham</td>\n",
       "      <td>Go until jurong point, crazy.. Available only ...</td>\n",
       "    </tr>\n",
       "    <tr>\n",
       "      <th>1</th>\n",
       "      <td>ham</td>\n",
       "      <td>Ok lar... Joking wif u oni...</td>\n",
       "    </tr>\n",
       "  </tbody>\n",
       "</table>\n",
       "</div>"
      ],
      "text/plain": [
       "    v1                                                 v2\n",
       "0  ham  Go until jurong point, crazy.. Available only ...\n",
       "1  ham                      Ok lar... Joking wif u oni..."
      ]
     },
     "execution_count": 176,
     "metadata": {},
     "output_type": "execute_result"
    }
   ],
   "source": [
    "df.head(2)"
   ]
  },
  {
   "cell_type": "code",
   "execution_count": 177,
   "id": "71ff9327",
   "metadata": {},
   "outputs": [
    {
     "data": {
      "text/plain": [
       "ham     4825\n",
       "spam     747\n",
       "Name: v1, dtype: int64"
      ]
     },
     "execution_count": 177,
     "metadata": {},
     "output_type": "execute_result"
    }
   ],
   "source": [
    "df['v1'].value_counts()"
   ]
  },
  {
   "cell_type": "code",
   "execution_count": 178,
   "id": "8e404ea1",
   "metadata": {},
   "outputs": [
    {
     "data": {
      "image/png": "[encoded data removed]",
      "text/plain": [
       "<Figure size 640x480 with 1 Axes>"
      ]
     },
     "metadata": {},
     "output_type": "display_data"
    }
   ],
   "source": [
    "plt.pie(df['v1'].value_counts(),labels=['Ham','Spam'],autopct='%.2f%%')\n",
    "plt.title('Distribution of spam and ham')\n",
    "plt.show()"
   ]
  },
  {
   "cell_type": "code",
   "execution_count": 179,
   "id": "3a1c0383",
   "metadata": {},
   "outputs": [
    {
     "data": {
      "text/plain": [
       "0       0\n",
       "1       0\n",
       "2       1\n",
       "3       0\n",
       "4       0\n",
       "       ..\n",
       "5567    1\n",
       "5568    0\n",
       "5569    0\n",
       "5570    0\n",
       "5571    0\n",
       "Name: v1, Length: 5572, dtype: int32"
      ]
     },
     "execution_count": 179,
     "metadata": {},
     "output_type": "execute_result"
    }
   ],
   "source": [
    "from sklearn.preprocessing import LabelEncoder\n",
    "le=LabelEncoder()\n",
    "df['v1']=le.fit_transform(df['v1'])\n",
    "df['v1']"
   ]
  },
  {
   "cell_type": "code",
   "execution_count": 180,
   "id": "e400d505",
   "metadata": {},
   "outputs": [
    {
     "data": {
      "text/plain": [
       "0    4825\n",
       "1     747\n",
       "Name: v1, dtype: int64"
      ]
     },
     "execution_count": 180,
     "metadata": {},
     "output_type": "execute_result"
    }
   ],
   "source": [
    "df['v1'].value_counts()"
   ]
  },
  {
   "cell_type": "code",
   "execution_count": 181,
   "id": "b138011f",
   "metadata": {},
   "outputs": [
    {
     "data": {
      "text/html": [
       "<div>\n",
       "<style scoped>\n",
       "    .dataframe tbody tr th:only-of-type {\n",
       "        vertical-align: middle;\n",
       "    }\n",
       "\n",
       "    .dataframe tbody tr th {\n",
       "        vertical-align: top;\n",
       "    }\n",
       "\n",
       "    .dataframe thead th {\n",
       "        text-align: right;\n",
       "    }\n",
       "</style>\n",
       "<table border=\"1\" class=\"dataframe\">\n",
       "  <thead>\n",
       "    <tr style=\"text-align: right;\">\n",
       "      <th></th>\n",
       "      <th>Category</th>\n",
       "      <th>Message</th>\n",
       "    </tr>\n",
       "  </thead>\n",
       "  <tbody>\n",
       "    <tr>\n",
       "      <th>0</th>\n",
       "      <td>0</td>\n",
       "      <td>Go until jurong point, crazy.. Available only ...</td>\n",
       "    </tr>\n",
       "  </tbody>\n",
       "</table>\n",
       "</div>"
      ],
      "text/plain": [
       "   Category                                            Message\n",
       "0         0  Go until jurong point, crazy.. Available only ..."
      ]
     },
     "execution_count": 181,
     "metadata": {},
     "output_type": "execute_result"
    }
   ],
   "source": [
    "df.columns=['Category','Message']\n",
    "df.head(1)"
   ]
  },
  {
   "cell_type": "code",
   "execution_count": 182,
   "id": "9bdda437",
   "metadata": {},
   "outputs": [],
   "source": [
    "from sklearn.model_selection import train_test_split\n",
    "x=df['Message']\n",
    "y=df['Category']\n",
    "xtrain,xtest,ytrain,ytest=train_test_split(x,y,test_size=0.30,random_state=10)"
   ]
  },
  {
   "cell_type": "code",
   "execution_count": 183,
   "id": "424e9ff5",
   "metadata": {},
   "outputs": [
    {
     "name": "stdout",
     "output_type": "stream",
     "text": [
      "xtrain (3900,)\n",
      "ytrain (3900,)\n",
      "xtest (1672,)\n",
      "ytest (1672,)\n"
     ]
    }
   ],
   "source": [
    "print('xtrain',xtrain.shape)\n",
    "print('ytrain',ytrain.shape)\n",
    "print('xtest',xtest.shape)\n",
    "print('ytest',ytest.shape)"
   ]
  },
  {
   "cell_type": "code",
   "execution_count": 184,
   "id": "9d084136",
   "metadata": {},
   "outputs": [
    {
     "name": "stdout",
     "output_type": "stream",
     "text": [
      "xtrain_feature\n",
      "  (0, 854)\t0.5016970086542163\n",
      "  (0, 3797)\t0.2626624828835249\n",
      "  (0, 369)\t0.41370667298917224\n",
      "  (0, 6828)\t0.37315672973926345\n",
      "  (0, 2162)\t0.43742686919673984\n",
      "  (0, 1050)\t0.30888659028178705\n",
      "  (0, 3075)\t0.28662900030567595\n",
      "  (1, 1971)\t0.4989248514357227\n",
      "  (1, 2725)\t0.4093828265288236\n",
      "  (1, 3890)\t0.3130107735951054\n",
      "  (1, 1139)\t0.38620925349314306\n",
      "  (1, 2856)\t0.27315627842982065\n",
      "  (1, 5852)\t0.284188912439452\n",
      "  (1, 4265)\t0.42540412749952006\n",
      "  (2, 6881)\t0.6729504060422761\n",
      "  (2, 3835)\t0.7396876036595016\n",
      "  (3, 360)\t0.3846654452456247\n",
      "  (3, 4184)\t0.41849014704923565\n",
      "  (3, 3254)\t0.41849014704923565\n",
      "  (3, 5716)\t0.41849014704923565\n",
      "  (3, 5047)\t0.3737763234338551\n",
      "  (3, 3249)\t0.26044675315741483\n",
      "  (3, 369)\t0.34509308093924934\n",
      "  (4, 2868)\t0.14196458288801908\n",
      "  (4, 3137)\t0.16659198869161834\n",
      "  :\t:\n",
      "  (3896, 1357)\t0.2690633585349523\n",
      "  (3896, 2018)\t0.23047149600357264\n",
      "  (3896, 1622)\t0.23831004409365628\n",
      "  (3896, 6417)\t0.18748292422662982\n",
      "  (3896, 6859)\t0.17347016324467854\n",
      "  (3896, 4114)\t0.19430320313324012\n",
      "  (3896, 4237)\t0.22036584990137845\n",
      "  (3897, 2682)\t1.0\n",
      "  (3898, 1239)\t0.4727000317219515\n",
      "  (3898, 2103)\t0.3357320715864844\n",
      "  (3898, 2575)\t0.6506021195113094\n",
      "  (3898, 3482)\t0.3313201205803172\n",
      "  (3898, 2977)\t0.3616386537752145\n",
      "  (3899, 2033)\t0.3415568326716935\n",
      "  (3899, 4585)\t0.3415568326716935\n",
      "  (3899, 657)\t0.3415568326716935\n",
      "  (3899, 6308)\t0.29780152839481755\n",
      "  (3899, 2503)\t0.325408051739671\n",
      "  (3899, 506)\t0.325408051739671\n",
      "  (3899, 664)\t0.3050629938599679\n",
      "  (3899, 478)\t0.22030021920174508\n",
      "  (3899, 1969)\t0.2816527474627951\n",
      "  (3899, 2918)\t0.19414213890904333\n",
      "  (3899, 286)\t0.22990517199983632\n",
      "  (3899, 3075)\t0.19513788563115803\n",
      "------------------------\n",
      "xtest_feature\n",
      "  (0, 4520)\t0.5570920549282519\n",
      "  (0, 3830)\t0.5203134141928099\n",
      "  (0, 783)\t0.6472421442913302\n",
      "  (1, 5697)\t0.47717256895320165\n",
      "  (1, 3984)\t0.5982770897846436\n",
      "  (1, 3734)\t0.42378617355246695\n",
      "  (1, 3614)\t0.4845370392273206\n",
      "  (2, 6696)\t0.2962630147752311\n",
      "  (2, 6481)\t0.30929056729632015\n",
      "  (2, 6359)\t0.2263860468082075\n",
      "  (2, 6079)\t0.29015525122785385\n",
      "  (2, 5900)\t0.284864465788461\n",
      "  (2, 5462)\t0.2962630147752311\n",
      "  (2, 5118)\t0.24302151034306033\n",
      "  (2, 3047)\t0.23971776136076395\n",
      "  (2, 2704)\t0.22209840442909323\n",
      "  (2, 2490)\t0.3397922687295248\n",
      "  (2, 2466)\t0.2962630147752311\n",
      "  (2, 1717)\t0.26269134975732195\n",
      "  (2, 1366)\t0.27224668108175926\n",
      "  (3, 3075)\t0.5162851588148959\n",
      "  (3, 3013)\t0.5506789386908991\n",
      "  (3, 1204)\t0.6558981180562595\n",
      "  (4, 6772)\t0.5197308822952829\n",
      "  (4, 4647)\t0.364180428474717\n",
      "  :\t:\n",
      "  (1671, 4700)\t0.11347779819225325\n",
      "  (1671, 4686)\t0.10572759369733795\n",
      "  (1671, 4660)\t0.13133651773767743\n",
      "  (1671, 4398)\t0.12088968666625637\n",
      "  (1671, 4274)\t0.156171475474872\n",
      "  (1671, 4190)\t0.1506726178754468\n",
      "  (1671, 4189)\t0.1506726178754468\n",
      "  (1671, 4188)\t0.14640737255637143\n",
      "  (1671, 3925)\t0.14640737255637143\n",
      "  (1671, 3899)\t0.10867408469693529\n",
      "  (1671, 3882)\t0.1506726178754468\n",
      "  (1671, 3818)\t0.15914776328133065\n",
      "  (1671, 3258)\t0.13742355578110635\n",
      "  (1671, 3161)\t0.11642428919185056\n",
      "  (1671, 2942)\t0.15938015738520703\n",
      "  (1671, 2768)\t0.156171475474872\n",
      "  (1671, 1985)\t0.12672686028659372\n",
      "  (1671, 1801)\t0.1506726178754468\n",
      "  (1671, 1799)\t0.1506726178754468\n",
      "  (1671, 1607)\t0.1399759223809342\n",
      "  (1671, 1497)\t0.13133651773767743\n",
      "  (1671, 1438)\t0.11642428919185056\n",
      "  (1671, 1339)\t0.1506726178754468\n",
      "  (1671, 937)\t0.1506726178754468\n",
      "  (1671, 769)\t0.11808745564333696\n"
     ]
    }
   ],
   "source": [
    "from sklearn.feature_extraction.text import TfidfVectorizer\n",
    "feature_extraction = TfidfVectorizer(min_df=1,stop_words='english',lowercase=True)\n",
    "\n",
    "xtrain_feature=feature_extraction.fit_transform(xtrain)\n",
    "xtest_feature=feature_extraction.transform(xtest)\n",
    "\n",
    "print('xtrain_feature')\n",
    "print(xtrain_feature)\n",
    "print('------------------------')\n",
    "print('xtest_feature')\n",
    "print(xtest_feature)"
   ]
  },
  {
   "cell_type": "code",
   "execution_count": 185,
   "id": "e96bbb07",
   "metadata": {},
   "outputs": [
    {
     "name": "stdout",
     "output_type": "stream",
     "text": [
      "ytrain datatype : int32\n",
      "ytest datatype : int32\n"
     ]
    }
   ],
   "source": [
    "print('ytrain datatype :',ytrain.dtypes)\n",
    "print('ytest datatype :',ytest.dtypes)"
   ]
  },
  {
   "cell_type": "code",
   "execution_count": 186,
   "id": "3b340244",
   "metadata": {},
   "outputs": [
    {
     "data": {
      "text/html": [
       "<div>\n",
       "<style scoped>\n",
       "    .dataframe tbody tr th:only-of-type {\n",
       "        vertical-align: middle;\n",
       "    }\n",
       "\n",
       "    .dataframe tbody tr th {\n",
       "        vertical-align: top;\n",
       "    }\n",
       "\n",
       "    .dataframe thead th {\n",
       "        text-align: right;\n",
       "    }\n",
       "</style>\n",
       "<table border=\"1\" class=\"dataframe\">\n",
       "  <thead>\n",
       "    <tr style=\"text-align: right;\">\n",
       "      <th></th>\n",
       "    </tr>\n",
       "  </thead>\n",
       "  <tbody>\n",
       "    <tr>\n",
       "      <th>Accuracy</th>\n",
       "    </tr>\n",
       "    <tr>\n",
       "      <th>Recall</th>\n",
       "    </tr>\n",
       "    <tr>\n",
       "      <th>Precission</th>\n",
       "    </tr>\n",
       "    <tr>\n",
       "      <th>F1-score</th>\n",
       "    </tr>\n",
       "  </tbody>\n",
       "</table>\n",
       "</div>"
      ],
      "text/plain": [
       "Empty DataFrame\n",
       "Columns: []\n",
       "Index: [Accuracy, Recall, Precission, F1-score]"
      ]
     },
     "execution_count": 186,
     "metadata": {},
     "output_type": "execute_result"
    }
   ],
   "source": [
    "Results=pd.DataFrame(index=['Accuracy','Recall','Precission','F1-score'])\n",
    "Results"
   ]
  },
  {
   "cell_type": "code",
   "execution_count": 187,
   "id": "8f13eb94",
   "metadata": {},
   "outputs": [
    {
     "name": "stdout",
     "output_type": "stream",
     "text": [
      "              precision    recall  f1-score   support\n",
      "\n",
      "           0       0.96      1.00      0.98      1446\n",
      "           1       0.99      0.72      0.83       226\n",
      "\n",
      "    accuracy                           0.96      1672\n",
      "   macro avg       0.97      0.86      0.91      1672\n",
      "weighted avg       0.96      0.96      0.96      1672\n",
      "\n"
     ]
    },
    {
     "data": {
      "text/html": [
       "<div>\n",
       "<style scoped>\n",
       "    .dataframe tbody tr th:only-of-type {\n",
       "        vertical-align: middle;\n",
       "    }\n",
       "\n",
       "    .dataframe tbody tr th {\n",
       "        vertical-align: top;\n",
       "    }\n",
       "\n",
       "    .dataframe thead th {\n",
       "        text-align: right;\n",
       "    }\n",
       "</style>\n",
       "<table border=\"1\" class=\"dataframe\">\n",
       "  <thead>\n",
       "    <tr style=\"text-align: right;\">\n",
       "      <th></th>\n",
       "      <th>Logistic Regression</th>\n",
       "    </tr>\n",
       "  </thead>\n",
       "  <tbody>\n",
       "    <tr>\n",
       "      <th>Accuracy</th>\n",
       "      <td>0.961124</td>\n",
       "    </tr>\n",
       "    <tr>\n",
       "      <th>Recall</th>\n",
       "      <td>0.721239</td>\n",
       "    </tr>\n",
       "    <tr>\n",
       "      <th>Precission</th>\n",
       "      <td>0.987879</td>\n",
       "    </tr>\n",
       "    <tr>\n",
       "      <th>F1-score</th>\n",
       "      <td>0.833760</td>\n",
       "    </tr>\n",
       "  </tbody>\n",
       "</table>\n",
       "</div>"
      ],
      "text/plain": [
       "            Logistic Regression\n",
       "Accuracy               0.961124\n",
       "Recall                 0.721239\n",
       "Precission             0.987879\n",
       "F1-score               0.833760"
      ]
     },
     "execution_count": 187,
     "metadata": {},
     "output_type": "execute_result"
    }
   ],
   "source": [
    "#Logistic regression\n",
    "from sklearn.linear_model import LogisticRegression\n",
    "from sklearn.metrics import classification_report,accuracy_score,precision_score,recall_score,f1_score\n",
    "lr=LogisticRegression()\n",
    "model=lr.fit(xtrain_feature,ytrain)\n",
    "y_predict=model.predict(xtest_feature)\n",
    "print(classification_report(ytest,y_predict))\n",
    "Accuracy_lr=accuracy_score(ytest,y_predict)\n",
    "Recall_lr=recall_score(ytest,y_predict)\n",
    "Precission_lr=precision_score(ytest,y_predict)\n",
    "f1_score_lr=f1_score(ytest,y_predict)\n",
    "Results['Logistic Regression']=[Accuracy_lr,Recall_lr,Precission_lr,f1_score_lr]\n",
    "Results"
   ]
  },
  {
   "cell_type": "code",
   "execution_count": 188,
   "id": "1462f89a",
   "metadata": {},
   "outputs": [
    {
     "name": "stdout",
     "output_type": "stream",
     "text": [
      "              precision    recall  f1-score   support\n",
      "\n",
      "           0       0.98      0.88      0.93      1446\n",
      "           1       0.55      0.91      0.68       226\n",
      "\n",
      "    accuracy                           0.89      1672\n",
      "   macro avg       0.77      0.90      0.81      1672\n",
      "weighted avg       0.92      0.89      0.90      1672\n",
      "\n"
     ]
    },
    {
     "data": {
      "text/html": [
       "<div>\n",
       "<style scoped>\n",
       "    .dataframe tbody tr th:only-of-type {\n",
       "        vertical-align: middle;\n",
       "    }\n",
       "\n",
       "    .dataframe tbody tr th {\n",
       "        vertical-align: top;\n",
       "    }\n",
       "\n",
       "    .dataframe thead th {\n",
       "        text-align: right;\n",
       "    }\n",
       "</style>\n",
       "<table border=\"1\" class=\"dataframe\">\n",
       "  <thead>\n",
       "    <tr style=\"text-align: right;\">\n",
       "      <th></th>\n",
       "      <th>Logistic Regression</th>\n",
       "      <th>Naive Bayes</th>\n",
       "    </tr>\n",
       "  </thead>\n",
       "  <tbody>\n",
       "    <tr>\n",
       "      <th>Accuracy</th>\n",
       "      <td>0.961124</td>\n",
       "      <td>0.886364</td>\n",
       "    </tr>\n",
       "    <tr>\n",
       "      <th>Recall</th>\n",
       "      <td>0.721239</td>\n",
       "      <td>0.907080</td>\n",
       "    </tr>\n",
       "    <tr>\n",
       "      <th>Precission</th>\n",
       "      <td>0.987879</td>\n",
       "      <td>0.548128</td>\n",
       "    </tr>\n",
       "    <tr>\n",
       "      <th>F1-score</th>\n",
       "      <td>0.833760</td>\n",
       "      <td>0.683333</td>\n",
       "    </tr>\n",
       "  </tbody>\n",
       "</table>\n",
       "</div>"
      ],
      "text/plain": [
       "            Logistic Regression  Naive Bayes\n",
       "Accuracy               0.961124     0.886364\n",
       "Recall                 0.721239     0.907080\n",
       "Precission             0.987879     0.548128\n",
       "F1-score               0.833760     0.683333"
      ]
     },
     "execution_count": 188,
     "metadata": {},
     "output_type": "execute_result"
    }
   ],
   "source": [
    "#Naive bayes\n",
    "from sklearn.naive_bayes import GaussianNB\n",
    "xtrain_feature_dense = xtrain_feature.toarray()\n",
    "xtest_feature_dense = xtest_feature.toarray()\n",
    "NB = GaussianNB()\n",
    "model = NB.fit(xtrain_feature_dense, ytrain)\n",
    "y_predict = model.predict(xtest_feature_dense)\n",
    "print(classification_report(ytest, y_predict))\n",
    "Accuracy_nb = accuracy_score(ytest, y_predict)\n",
    "Recall_nb = recall_score(ytest, y_predict)\n",
    "Precision_nb = precision_score(ytest, y_predict)\n",
    "F1_score_nb = f1_score(ytest, y_predict)\n",
    "Results['Naive Bayes'] = [Accuracy_nb, Recall_nb, Precision_nb, F1_score_nb]\n",
    "Results"
   ]
  },
  {
   "cell_type": "code",
   "execution_count": 189,
   "id": "bb922500",
   "metadata": {},
   "outputs": [
    {
     "name": "stdout",
     "output_type": "stream",
     "text": [
      "              precision    recall  f1-score   support\n",
      "\n",
      "           0       0.97      0.99      0.98      1446\n",
      "           1       0.90      0.81      0.85       226\n",
      "\n",
      "    accuracy                           0.96      1672\n",
      "   macro avg       0.94      0.90      0.92      1672\n",
      "weighted avg       0.96      0.96      0.96      1672\n",
      "\n"
     ]
    },
    {
     "data": {
      "text/html": [
       "<div>\n",
       "<style scoped>\n",
       "    .dataframe tbody tr th:only-of-type {\n",
       "        vertical-align: middle;\n",
       "    }\n",
       "\n",
       "    .dataframe tbody tr th {\n",
       "        vertical-align: top;\n",
       "    }\n",
       "\n",
       "    .dataframe thead th {\n",
       "        text-align: right;\n",
       "    }\n",
       "</style>\n",
       "<table border=\"1\" class=\"dataframe\">\n",
       "  <thead>\n",
       "    <tr style=\"text-align: right;\">\n",
       "      <th></th>\n",
       "      <th>Logistic Regression</th>\n",
       "      <th>Naive Bayes</th>\n",
       "      <th>Decision Tree</th>\n",
       "    </tr>\n",
       "  </thead>\n",
       "  <tbody>\n",
       "    <tr>\n",
       "      <th>Accuracy</th>\n",
       "      <td>0.961124</td>\n",
       "      <td>0.886364</td>\n",
       "      <td>0.962321</td>\n",
       "    </tr>\n",
       "    <tr>\n",
       "      <th>Recall</th>\n",
       "      <td>0.721239</td>\n",
       "      <td>0.907080</td>\n",
       "      <td>0.809735</td>\n",
       "    </tr>\n",
       "    <tr>\n",
       "      <th>Precission</th>\n",
       "      <td>0.987879</td>\n",
       "      <td>0.548128</td>\n",
       "      <td>0.901478</td>\n",
       "    </tr>\n",
       "    <tr>\n",
       "      <th>F1-score</th>\n",
       "      <td>0.833760</td>\n",
       "      <td>0.683333</td>\n",
       "      <td>0.853147</td>\n",
       "    </tr>\n",
       "  </tbody>\n",
       "</table>\n",
       "</div>"
      ],
      "text/plain": [
       "            Logistic Regression  Naive Bayes  Decision Tree\n",
       "Accuracy               0.961124     0.886364       0.962321\n",
       "Recall                 0.721239     0.907080       0.809735\n",
       "Precission             0.987879     0.548128       0.901478\n",
       "F1-score               0.833760     0.683333       0.853147"
      ]
     },
     "execution_count": 189,
     "metadata": {},
     "output_type": "execute_result"
    }
   ],
   "source": [
    "#Decision tree\n",
    "from sklearn.tree import DecisionTreeClassifier\n",
    "dt=DecisionTreeClassifier()\n",
    "model=dt.fit(xtrain_feature,ytrain)\n",
    "y_predict=model.predict(xtest_feature)\n",
    "print(classification_report(ytest,y_predict))\n",
    "Accuracy_dt=accuracy_score(ytest,y_predict)\n",
    "Recall_dt=recall_score(ytest,y_predict)\n",
    "Precission_dt=precision_score(ytest,y_predict)\n",
    "f1_score_dt=f1_score(ytest,y_predict)\n",
    "Results['Decision Tree']=[Accuracy_dt,Recall_dt,Precission_dt,f1_score_dt]\n",
    "Results"
   ]
  },
  {
   "cell_type": "code",
   "execution_count": 190,
   "id": "a2425bf3",
   "metadata": {},
   "outputs": [
    {
     "name": "stdout",
     "output_type": "stream",
     "text": [
      "              precision    recall  f1-score   support\n",
      "\n",
      "           0       0.96      0.99      0.97      1446\n",
      "           1       0.90      0.74      0.82       226\n",
      "\n",
      "    accuracy                           0.95      1672\n",
      "   macro avg       0.93      0.87      0.89      1672\n",
      "weighted avg       0.95      0.95      0.95      1672\n",
      "\n"
     ]
    },
    {
     "data": {
      "text/html": [
       "<div>\n",
       "<style scoped>\n",
       "    .dataframe tbody tr th:only-of-type {\n",
       "        vertical-align: middle;\n",
       "    }\n",
       "\n",
       "    .dataframe tbody tr th {\n",
       "        vertical-align: top;\n",
       "    }\n",
       "\n",
       "    .dataframe thead th {\n",
       "        text-align: right;\n",
       "    }\n",
       "</style>\n",
       "<table border=\"1\" class=\"dataframe\">\n",
       "  <thead>\n",
       "    <tr style=\"text-align: right;\">\n",
       "      <th></th>\n",
       "      <th>Logistic Regression</th>\n",
       "      <th>Naive Bayes</th>\n",
       "      <th>Decision Tree</th>\n",
       "      <th>Adaboost</th>\n",
       "    </tr>\n",
       "  </thead>\n",
       "  <tbody>\n",
       "    <tr>\n",
       "      <th>Accuracy</th>\n",
       "      <td>0.961124</td>\n",
       "      <td>0.886364</td>\n",
       "      <td>0.962321</td>\n",
       "      <td>0.954545</td>\n",
       "    </tr>\n",
       "    <tr>\n",
       "      <th>Recall</th>\n",
       "      <td>0.721239</td>\n",
       "      <td>0.907080</td>\n",
       "      <td>0.809735</td>\n",
       "      <td>0.743363</td>\n",
       "    </tr>\n",
       "    <tr>\n",
       "      <th>Precission</th>\n",
       "      <td>0.987879</td>\n",
       "      <td>0.548128</td>\n",
       "      <td>0.901478</td>\n",
       "      <td>0.903226</td>\n",
       "    </tr>\n",
       "    <tr>\n",
       "      <th>F1-score</th>\n",
       "      <td>0.833760</td>\n",
       "      <td>0.683333</td>\n",
       "      <td>0.853147</td>\n",
       "      <td>0.815534</td>\n",
       "    </tr>\n",
       "  </tbody>\n",
       "</table>\n",
       "</div>"
      ],
      "text/plain": [
       "            Logistic Regression  Naive Bayes  Decision Tree  Adaboost\n",
       "Accuracy               0.961124     0.886364       0.962321  0.954545\n",
       "Recall                 0.721239     0.907080       0.809735  0.743363\n",
       "Precission             0.987879     0.548128       0.901478  0.903226\n",
       "F1-score               0.833760     0.683333       0.853147  0.815534"
      ]
     },
     "execution_count": 190,
     "metadata": {},
     "output_type": "execute_result"
    }
   ],
   "source": [
    "#Adaboost\n",
    "from sklearn.ensemble import AdaBoostClassifier\n",
    "ada=AdaBoostClassifier()\n",
    "model=ada.fit(xtrain_feature,ytrain)\n",
    "y_predict=model.predict(xtest_feature)\n",
    "print(classification_report(ytest,y_predict))\n",
    "Accuracy_ada=accuracy_score(ytest,y_predict)\n",
    "Recall_ada=recall_score(ytest,y_predict)\n",
    "Precission_ada=precision_score(ytest,y_predict)\n",
    "f1_score_ada=f1_score(ytest,y_predict)\n",
    "Results['Adaboost']=[Accuracy_ada,Recall_ada,Precission_ada,f1_score_ada]\n",
    "Results"
   ]
  },
  {
   "cell_type": "code",
   "execution_count": 191,
   "id": "1bed7590",
   "metadata": {},
   "outputs": [
    {
     "name": "stdout",
     "output_type": "stream",
     "text": [
      "              precision    recall  f1-score   support\n",
      "\n",
      "           0       0.97      1.00      0.99      1446\n",
      "           1       1.00      0.81      0.89       226\n",
      "\n",
      "    accuracy                           0.97      1672\n",
      "   macro avg       0.99      0.90      0.94      1672\n",
      "weighted avg       0.97      0.97      0.97      1672\n",
      "\n"
     ]
    },
    {
     "data": {
      "text/html": [
       "<div>\n",
       "<style scoped>\n",
       "    .dataframe tbody tr th:only-of-type {\n",
       "        vertical-align: middle;\n",
       "    }\n",
       "\n",
       "    .dataframe tbody tr th {\n",
       "        vertical-align: top;\n",
       "    }\n",
       "\n",
       "    .dataframe thead th {\n",
       "        text-align: right;\n",
       "    }\n",
       "</style>\n",
       "<table border=\"1\" class=\"dataframe\">\n",
       "  <thead>\n",
       "    <tr style=\"text-align: right;\">\n",
       "      <th></th>\n",
       "      <th>Logistic Regression</th>\n",
       "      <th>Naive Bayes</th>\n",
       "      <th>Decision Tree</th>\n",
       "      <th>Adaboost</th>\n",
       "      <th>Random forest</th>\n",
       "    </tr>\n",
       "  </thead>\n",
       "  <tbody>\n",
       "    <tr>\n",
       "      <th>Accuracy</th>\n",
       "      <td>0.961124</td>\n",
       "      <td>0.886364</td>\n",
       "      <td>0.962321</td>\n",
       "      <td>0.954545</td>\n",
       "      <td>0.973684</td>\n",
       "    </tr>\n",
       "    <tr>\n",
       "      <th>Recall</th>\n",
       "      <td>0.721239</td>\n",
       "      <td>0.907080</td>\n",
       "      <td>0.809735</td>\n",
       "      <td>0.743363</td>\n",
       "      <td>0.805310</td>\n",
       "    </tr>\n",
       "    <tr>\n",
       "      <th>Precission</th>\n",
       "      <td>0.987879</td>\n",
       "      <td>0.548128</td>\n",
       "      <td>0.901478</td>\n",
       "      <td>0.903226</td>\n",
       "      <td>1.000000</td>\n",
       "    </tr>\n",
       "    <tr>\n",
       "      <th>F1-score</th>\n",
       "      <td>0.833760</td>\n",
       "      <td>0.683333</td>\n",
       "      <td>0.853147</td>\n",
       "      <td>0.815534</td>\n",
       "      <td>0.892157</td>\n",
       "    </tr>\n",
       "  </tbody>\n",
       "</table>\n",
       "</div>"
      ],
      "text/plain": [
       "            Logistic Regression  Naive Bayes  Decision Tree  Adaboost  \\\n",
       "Accuracy               0.961124     0.886364       0.962321  0.954545   \n",
       "Recall                 0.721239     0.907080       0.809735  0.743363   \n",
       "Precission             0.987879     0.548128       0.901478  0.903226   \n",
       "F1-score               0.833760     0.683333       0.853147  0.815534   \n",
       "\n",
       "            Random forest  \n",
       "Accuracy         0.973684  \n",
       "Recall           0.805310  \n",
       "Precission       1.000000  \n",
       "F1-score         0.892157  "
      ]
     },
     "execution_count": 191,
     "metadata": {},
     "output_type": "execute_result"
    }
   ],
   "source": [
    "#Random forest\n",
    "from sklearn.ensemble import RandomForestClassifier\n",
    "rf=RandomForestClassifier()\n",
    "model=rf.fit(xtrain_feature,ytrain)\n",
    "y_predict=model.predict(xtest_feature)\n",
    "print(classification_report(ytest,y_predict))\n",
    "Accuracy_rf=accuracy_score(ytest,y_predict)\n",
    "Recall_rf=recall_score(ytest,y_predict)\n",
    "Precission_rf=precision_score(ytest,y_predict)\n",
    "f1_score_rf=f1_score(ytest,y_predict)\n",
    "Results['Random forest']=[Accuracy_rf,Recall_rf,Precission_rf,f1_score_rf]\n",
    "Results"
   ]
  },
  {
   "cell_type": "markdown",
   "id": "5da63a1a",
   "metadata": {},
   "source": [
    "#Random Forest achieved the highest accuracy (97.31%), indicating that it made the correct predictions \n",
    "for the majority of instances in the dataset. If overall correctness is the primary concern, Random Forest is the \n",
    "preferred model.\n",
    "#F1-score is a balanced metric considering both precision and recall. Random Forest achieved the highest F1-score \n",
    "(88.94%), indicating a good balance between precision and recall. This model has high accuracy while maintaining a \n",
    "relatively balanced trade-off between false positives and false negatives."
   ]
  },
  {
   "cell_type": "code",
   "execution_count": 192,
   "id": "9cbadb65",
   "metadata": {},
   "outputs": [
    {
     "name": "stdout",
     "output_type": "stream",
     "text": [
      "The trained model is of type: RandomForestClassifier\n"
     ]
    }
   ],
   "source": [
    "# Assuming 'model' is your trained model\n",
    "model_type = type(model).__name__\n",
    "\n",
    "# OR\n",
    "\n",
    "model_type = model.__class__.__name__\n",
    "\n",
    "print(f\"The trained model is of type: {model_type}\")\n"
   ]
  },
  {
   "cell_type": "code",
   "execution_count": 193,
   "id": "6d3e876b",
   "metadata": {},
   "outputs": [
    {
     "name": "stdout",
     "output_type": "stream",
     "text": [
      "[1]\n",
      "It is a spam message\n"
     ]
    }
   ],
   "source": [
    "#Using randomforest model\n",
    "x_new_transformed = feature_extraction.transform(['Free entry in 2 a wkly comp to win FA Cup final tkts 21st May 2005. Text FA to 87121 to receive entry question(std txt rate)T&C\\'s apply 08452810075over18\\'s'])\n",
    "predicted_label = model.predict(x_new_transformed)\n",
    "print(predicted_label)\n",
    "\n",
    "if predicted_label[0]==1:\n",
    "    print('It is a spam message')\n",
    "else:\n",
    "    print('It is not a spam message , ie it is Ham')\n"
   ]
  },
  {
   "cell_type": "code",
   "execution_count": 194,
   "id": "76e6a5f8",
   "metadata": {},
   "outputs": [
    {
     "name": "stdout",
     "output_type": "stream",
     "text": [
      "[0]\n",
      "It is not a spam message , ie it is Ham\n"
     ]
    }
   ],
   "source": [
    "x_new_transformed = feature_extraction.transform(['Go until jurong point, crazy.. Available only in bugis n great world la e buffet... Cine there got amore wat...'])\n",
    "predicted_label = model.predict(x_new_transformed)\n",
    "print(predicted_label)\n",
    "\n",
    "if predicted_label[0]==1:\n",
    "    print('It is a spam message')\n",
    "else:\n",
    "    print('It is not a spam message , ie it is Ham')\n"
   ]
  },
  {
   "cell_type": "code",
   "execution_count": null,
   "id": "c538e65d",
   "metadata": {},
   "outputs": [],
   "source": []
  }
 ],
 "metadata": {
  "kernelspec": {
   "display_name": "Python 3 (ipykernel)",
   "language": "python",
   "name": "python3"
  },
  "language_info": {
   "codemirror_mode": {
    "name": "ipython",
    "version": 3
   },
   "file_extension": ".py",
   "mimetype": "text/x-python",
   "name": "python",
   "nbconvert_exporter": "python",
   "pygments_lexer": "ipython3",
   "version": "3.10.9"
  }
 },
 "nbformat": 4,
 "nbformat_minor": 5
}
